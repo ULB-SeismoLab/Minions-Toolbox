{
 "cells": [
  {
   "cell_type": "markdown",
   "id": "ba9fd0ed-f271-4a1e-9942-a88bd9052aa4",
   "metadata": {
    "tags": []
   },
   "source": [
    "# Rename the SmartSolo export files into SeisComP Data Structure (SDS) format"
   ]
  },
  {
   "cell_type": "code",
   "execution_count": 2,
   "id": "46c22473-41a6-4aa7-b67c-ee87f42d5eb1",
   "metadata": {},
   "outputs": [],
   "source": [
    "import os, sys\n",
    "import numpy as np\n",
    "import obspy\n",
    "import datetime\n",
    "import pandas as pd\n",
    "import shutil\n",
    "from tqdm import tqdm"
   ]
  },
  {
   "cell_type": "markdown",
   "id": "13a09828-3dfb-466d-b11a-208474ae6a04",
   "metadata": {},
   "source": [
    "## Specify input folder"
   ]
  },
  {
   "cell_type": "code",
   "execution_count": 71,
   "id": "8db46f3c-1c8e-4947-98d7-762eb3275565",
   "metadata": {},
   "outputs": [],
   "source": [
    "path_input = 'E:/Nodes_ablation_zone/All_comp_DP_/'\n",
    "path_output = 'E:/rename_minions'\n",
    "\n",
    "if os.path.exists(path_output) == False :\n",
    "    os.mkdir(path_output)"
   ]
  },
  {
   "cell_type": "markdown",
   "id": "b70b06a9-5713-49af-b402-e7420a2a1241",
   "metadata": {},
   "source": [
    "## Read files in input folder"
   ]
  },
  {
   "cell_type": "code",
   "execution_count": 72,
   "id": "c3a92d90-02ac-49a8-a8d4-558d7841020a",
   "metadata": {},
   "outputs": [],
   "source": [
    "files = np.array(os.listdir(path_input))"
   ]
  },
  {
   "cell_type": "markdown",
   "id": "7f244639-dea7-4414-9f45-7412ad7c3704",
   "metadata": {},
   "source": [
    "### Extracting all the station name"
   ]
  },
  {
   "cell_type": "code",
   "execution_count": 73,
   "id": "998fc037-7e8d-4f1e-8679-069bb8c33705",
   "metadata": {},
   "outputs": [
    {
     "name": "stdout",
     "output_type": "stream",
     "text": [
      "['453020739' '453020754' '453020769' '453020773' '453020774' '453020781']\n"
     ]
    }
   ],
   "source": [
    "sp = np.chararray.split(files, '.')\n",
    "\n",
    "nL = []\n",
    "for nn in sp :\n",
    "    if nn[-1] == 'miniseed' : \n",
    "        nL.append(nn[0])\n",
    "    \n",
    "SttName = np.unique(np.array(nL))\n",
    "\n",
    "print(SttName)"
   ]
  },
  {
   "cell_type": "markdown",
   "id": "30975ab6-7dac-4393-bb31-3131c7580057",
   "metadata": {},
   "source": [
    "### Determining the NET STA LOC CHAN TYPE YEAR DAY for each files"
   ]
  },
  {
   "cell_type": "code",
   "execution_count": 74,
   "id": "d7789304-933a-43c2-bc6b-584192662cb0",
   "metadata": {},
   "outputs": [
    {
     "name": "stdout",
     "output_type": "stream",
     "text": [
      "SS 20739\n",
      "SS 20754\n",
      "SS 20769\n",
      "SS 20773\n",
      "SS 20774\n",
      "SS 20781\n"
     ]
    }
   ],
   "source": [
    "info = []\n",
    "\n",
    "for i, file in enumerate(files) :\n",
    "    if (file[:9] in SttName) == True :\n",
    "        if i == 0 or (file[:9] != files[i-1][:9]) :\n",
    "            St = obspy.read(path_input+file)\n",
    "            sta = St[0].stats.station\n",
    "            net = St[0].stats.network\n",
    "            print(net, sta)\n",
    "        \n",
    "        year = int(file[-34:-30])\n",
    "        day = datetime.datetime.strptime(file[-34:-24], '%Y.%m.%d') - datetime.datetime.strptime(file[-34:-30], '%Y')\n",
    "        day = day.days + 1\n",
    "        chan = 'DP' + file[-10:-9]\n",
    "        Type = 'D' \n",
    "        loc = ''\n",
    "        \n",
    "        info.append([net,sta,loc,chan,Type,year,day, file])"
   ]
  },
  {
   "cell_type": "code",
   "execution_count": 75,
   "id": "f18b8d64-360b-46bf-9165-e5cf3f0a116d",
   "metadata": {},
   "outputs": [],
   "source": [
    "headers = ['Network', 'Station', 'Location','Channel', 'Type', 'Year','Day','File']\n",
    "file_info = pd.DataFrame(np.array(info), columns=headers)"
   ]
  },
  {
   "cell_type": "code",
   "execution_count": 76,
   "id": "a501229a-9391-4497-ab31-0c701b512f2e",
   "metadata": {},
   "outputs": [
    {
     "data": {
      "text/html": [
       "<div>\n",
       "<style scoped>\n",
       "    .dataframe tbody tr th:only-of-type {\n",
       "        vertical-align: middle;\n",
       "    }\n",
       "\n",
       "    .dataframe tbody tr th {\n",
       "        vertical-align: top;\n",
       "    }\n",
       "\n",
       "    .dataframe thead th {\n",
       "        text-align: right;\n",
       "    }\n",
       "</style>\n",
       "<table border=\"1\" class=\"dataframe\">\n",
       "  <thead>\n",
       "    <tr style=\"text-align: right;\">\n",
       "      <th></th>\n",
       "      <th>Network</th>\n",
       "      <th>Station</th>\n",
       "      <th>Location</th>\n",
       "      <th>Channel</th>\n",
       "      <th>Type</th>\n",
       "      <th>Year</th>\n",
       "      <th>Day</th>\n",
       "      <th>File</th>\n",
       "    </tr>\n",
       "  </thead>\n",
       "  <tbody>\n",
       "    <tr>\n",
       "      <th>0</th>\n",
       "      <td>SS</td>\n",
       "      <td>20739</td>\n",
       "      <td></td>\n",
       "      <td>DPE</td>\n",
       "      <td>D</td>\n",
       "      <td>2021</td>\n",
       "      <td>301</td>\n",
       "      <td>453020739.1.2021.10.28.00.50.46.000.E.miniseed</td>\n",
       "    </tr>\n",
       "    <tr>\n",
       "      <th>1</th>\n",
       "      <td>SS</td>\n",
       "      <td>20739</td>\n",
       "      <td></td>\n",
       "      <td>DPN</td>\n",
       "      <td>D</td>\n",
       "      <td>2021</td>\n",
       "      <td>301</td>\n",
       "      <td>453020739.1.2021.10.28.00.50.46.000.N.miniseed</td>\n",
       "    </tr>\n",
       "    <tr>\n",
       "      <th>2</th>\n",
       "      <td>SS</td>\n",
       "      <td>20739</td>\n",
       "      <td></td>\n",
       "      <td>DPZ</td>\n",
       "      <td>D</td>\n",
       "      <td>2021</td>\n",
       "      <td>301</td>\n",
       "      <td>453020739.1.2021.10.28.00.50.46.000.Z.miniseed</td>\n",
       "    </tr>\n",
       "    <tr>\n",
       "      <th>3</th>\n",
       "      <td>SS</td>\n",
       "      <td>20739</td>\n",
       "      <td></td>\n",
       "      <td>DPE</td>\n",
       "      <td>D</td>\n",
       "      <td>2022</td>\n",
       "      <td>135</td>\n",
       "      <td>453020739.10.2022.05.15.00.00.00.000.E.miniseed</td>\n",
       "    </tr>\n",
       "    <tr>\n",
       "      <th>4</th>\n",
       "      <td>SS</td>\n",
       "      <td>20739</td>\n",
       "      <td></td>\n",
       "      <td>DPN</td>\n",
       "      <td>D</td>\n",
       "      <td>2022</td>\n",
       "      <td>135</td>\n",
       "      <td>453020739.10.2022.05.15.00.00.00.000.N.miniseed</td>\n",
       "    </tr>\n",
       "    <tr>\n",
       "      <th>...</th>\n",
       "      <td>...</td>\n",
       "      <td>...</td>\n",
       "      <td>...</td>\n",
       "      <td>...</td>\n",
       "      <td>...</td>\n",
       "      <td>...</td>\n",
       "      <td>...</td>\n",
       "      <td>...</td>\n",
       "    </tr>\n",
       "    <tr>\n",
       "      <th>544</th>\n",
       "      <td>SS</td>\n",
       "      <td>20781</td>\n",
       "      <td></td>\n",
       "      <td>DPN</td>\n",
       "      <td>D</td>\n",
       "      <td>2022</td>\n",
       "      <td>133</td>\n",
       "      <td>453020781.8.2022.05.13.00.00.00.000.N.miniseed</td>\n",
       "    </tr>\n",
       "    <tr>\n",
       "      <th>545</th>\n",
       "      <td>SS</td>\n",
       "      <td>20781</td>\n",
       "      <td></td>\n",
       "      <td>DPZ</td>\n",
       "      <td>D</td>\n",
       "      <td>2022</td>\n",
       "      <td>133</td>\n",
       "      <td>453020781.8.2022.05.13.00.00.00.000.Z.miniseed</td>\n",
       "    </tr>\n",
       "    <tr>\n",
       "      <th>546</th>\n",
       "      <td>SS</td>\n",
       "      <td>20781</td>\n",
       "      <td></td>\n",
       "      <td>DPE</td>\n",
       "      <td>D</td>\n",
       "      <td>2022</td>\n",
       "      <td>134</td>\n",
       "      <td>453020781.9.2022.05.14.00.00.00.000.E.miniseed</td>\n",
       "    </tr>\n",
       "    <tr>\n",
       "      <th>547</th>\n",
       "      <td>SS</td>\n",
       "      <td>20781</td>\n",
       "      <td></td>\n",
       "      <td>DPN</td>\n",
       "      <td>D</td>\n",
       "      <td>2022</td>\n",
       "      <td>134</td>\n",
       "      <td>453020781.9.2022.05.14.00.00.00.000.N.miniseed</td>\n",
       "    </tr>\n",
       "    <tr>\n",
       "      <th>548</th>\n",
       "      <td>SS</td>\n",
       "      <td>20781</td>\n",
       "      <td></td>\n",
       "      <td>DPZ</td>\n",
       "      <td>D</td>\n",
       "      <td>2022</td>\n",
       "      <td>134</td>\n",
       "      <td>453020781.9.2022.05.14.00.00.00.000.Z.miniseed</td>\n",
       "    </tr>\n",
       "  </tbody>\n",
       "</table>\n",
       "<p>549 rows × 8 columns</p>\n",
       "</div>"
      ],
      "text/plain": [
       "    Network Station Location Channel Type  Year  Day  \\\n",
       "0        SS   20739              DPE    D  2021  301   \n",
       "1        SS   20739              DPN    D  2021  301   \n",
       "2        SS   20739              DPZ    D  2021  301   \n",
       "3        SS   20739              DPE    D  2022  135   \n",
       "4        SS   20739              DPN    D  2022  135   \n",
       "..      ...     ...      ...     ...  ...   ...  ...   \n",
       "544      SS   20781              DPN    D  2022  133   \n",
       "545      SS   20781              DPZ    D  2022  133   \n",
       "546      SS   20781              DPE    D  2022  134   \n",
       "547      SS   20781              DPN    D  2022  134   \n",
       "548      SS   20781              DPZ    D  2022  134   \n",
       "\n",
       "                                                File  \n",
       "0     453020739.1.2021.10.28.00.50.46.000.E.miniseed  \n",
       "1     453020739.1.2021.10.28.00.50.46.000.N.miniseed  \n",
       "2     453020739.1.2021.10.28.00.50.46.000.Z.miniseed  \n",
       "3    453020739.10.2022.05.15.00.00.00.000.E.miniseed  \n",
       "4    453020739.10.2022.05.15.00.00.00.000.N.miniseed  \n",
       "..                                               ...  \n",
       "544   453020781.8.2022.05.13.00.00.00.000.N.miniseed  \n",
       "545   453020781.8.2022.05.13.00.00.00.000.Z.miniseed  \n",
       "546   453020781.9.2022.05.14.00.00.00.000.E.miniseed  \n",
       "547   453020781.9.2022.05.14.00.00.00.000.N.miniseed  \n",
       "548   453020781.9.2022.05.14.00.00.00.000.Z.miniseed  \n",
       "\n",
       "[549 rows x 8 columns]"
      ]
     },
     "execution_count": 76,
     "metadata": {},
     "output_type": "execute_result"
    }
   ],
   "source": [
    "file_info"
   ]
  },
  {
   "cell_type": "markdown",
   "id": "e34e255e-4f8b-44df-b4dd-cba83d304b3f",
   "metadata": {},
   "source": [
    "## Convert and organize minions file into SDS format"
   ]
  },
  {
   "cell_type": "code",
   "execution_count": 113,
   "id": "c4ae675c-aa13-4735-a8f4-69322c6d6faa",
   "metadata": {},
   "outputs": [
    {
     "name": "stderr",
     "output_type": "stream",
     "text": [
      "100%|████████████████████████████████████████████████████████████████████████████████| 549/549 [02:34<00:00,  3.55it/s]\n"
     ]
    }
   ],
   "source": [
    "for daInfo in tqdm(info, total=len(info)) :\n",
    "    \n",
    "    net = daInfo[0]\n",
    "    sta = daInfo[1]\n",
    "    loc = daInfo[2]\n",
    "    chan = daInfo[3]\n",
    "    Type = daInfo[4]\n",
    "    year = daInfo[5]\n",
    "    day = daInfo[6]\n",
    "    file = daInfo[-1]\n",
    "    \n",
    "    file_path = '%s/%s/%s/%s/%s.%s/' %(path_output,str(year),str(net),str(sta),str(chan),Type)\n",
    "    \n",
    "    if os.path.exists(file_path) == False :\n",
    "        os.makedirs(file_path)\n",
    "    \n",
    "    output_file = '%s.%s.%s.%s.%s.%s.%s' %(net, sta, loc,chan,Type,year,day)\n",
    "    dst = file_path + output_file\n",
    "    shutil.copy2(path_input+file, dst)"
   ]
  }
 ],
 "metadata": {
  "kernelspec": {
   "display_name": "Python 3 (ipykernel)",
   "language": "python",
   "name": "python3"
  },
  "language_info": {
   "codemirror_mode": {
    "name": "ipython",
    "version": 3
   },
   "file_extension": ".py",
   "mimetype": "text/x-python",
   "name": "python",
   "nbconvert_exporter": "python",
   "pygments_lexer": "ipython3",
   "version": "3.10.9"
  }
 },
 "nbformat": 4,
 "nbformat_minor": 5
}
