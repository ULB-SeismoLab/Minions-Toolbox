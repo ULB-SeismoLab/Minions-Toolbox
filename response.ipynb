{
 "cells": [
  {
   "cell_type": "markdown",
   "id": "f70ab501-b03b-4ca6-a043-4e231d8008de",
   "metadata": {},
   "source": [
    "# Remove response"
   ]
  },
  {
   "cell_type": "markdown",
   "id": "560555ea-4484-40b1-b890-0ad3ea30b167",
   "metadata": {},
   "source": [
    "## import function"
   ]
  },
  {
   "cell_type": "code",
   "execution_count": null,
   "id": "33efc07b-2cfa-48ab-868d-e97605845620",
   "metadata": {},
   "outputs": [],
   "source": [
    "import numpy as np\n",
    "import matplotlib.pyplot as plt\n",
    "import matplotlib as  mpl\n",
    "import csv\n",
    "import obspy"
   ]
  },
  {
   "cell_type": "code",
   "execution_count": 66,
   "id": "b9ebd26c-c99a-4367-a116-b457ade43660",
   "metadata": {},
   "outputs": [],
   "source": [
    "def find_response_file(path, idb = None, ifs = None, iFilter = None, iLC = None, mode = 'COUNTS',inverted=True, plot='True') :\n",
    "    '''\n",
    "    function to find metadata in the logfile\n",
    "    \n",
    "    path : path of the logfile - is a string\n",
    "    idb : force the gain - From 0 to 36 B - is a integer, float or string\n",
    "    ifs : force the sampling frequency - 50, 100, 125, 250, 500, 1000, 2000 or 4000 Hz - is a integer, float or string\n",
    "    iFilter : force the Final Filter Phase - could be LP or MP - is a string\n",
    "    iLC : force the DC Filter - could be 'OFF', '1' or 'DC' - is a string\n",
    "    \n",
    "    mode = 'COUNTS' or 'mV'\n",
    "    interted = True or False - if True, the polarization has been already inverted\n",
    "\n",
    "    '''\n",
    "    \n",
    "    \n",
    "    with open(path) as file :\n",
    "        readcsv = csv.reader(file, delimiter=' ')\n",
    "        line = 0\n",
    "        db = np.zeros(4)\n",
    "        for row in readcsv :\n",
    "            #print(row)\n",
    "            if row != [] :\n",
    "                if row[0] == 'Project' :\n",
    "                    pj = row[-1]\n",
    "                if row[0] == \"Serial\" :\n",
    "                    sr = row[-1]\n",
    "                if row[0] == \"Channel\" and row[2] == \"Gain\":\n",
    "                    c = int(row[1]) - 1\n",
    "                    db[c] = round(np.exp(0.1155*int(row[-1])))\n",
    "                if row[0] == \"Anti-alias\" :\n",
    "                    if row[-1] == 'Linear' :\n",
    "                        Filter = 'LP'\n",
    "                    else :\n",
    "                        Filter = 'MP'\n",
    "                if row[0] == \"Sample\" and row[1] == \"Rate\" :\n",
    "                    fs = int(row[-1])\n",
    "                if row[0] == \"Low\" and row[1] == \"Cutter\" :\n",
    "                    if int(row[-1]) == 0 :\n",
    "                        LC = 'Off'\n",
    "                    elif int(row[-1]) == 1 :\n",
    "                        LC = '1'\n",
    "                    else :\n",
    "                        LC = 'DC'\n",
    "                        \n",
    "    if idb != None :\n",
    "        db[0] = round(np.exp(0.1155*int(idb)))\n",
    "    elif idb == None:\n",
    "        idb = int(np.log(db[0])/0.1155)\n",
    "    if ifs != None :\n",
    "        fs = int(ifs)\n",
    "    if iFilter != None :\n",
    "        Filter = str(iFilter)  \n",
    "    if iLC != None :\n",
    "        LC = str(iLC)\n",
    "\n",
    "    from obspy.clients.nrl import NRL\n",
    "\n",
    "    nrl = NRL()\n",
    "\n",
    "    response_node = nrl.get_response(\n",
    "    datalogger_keys=['DTCC (manufacturers of SmartSolo','SmartSolo IGU-16HR3C', '%s dB (%i)'%(idb, db[0]), '%s'%fs, 'Linear Phase', '%s' %LC],\n",
    "        sensor_keys=['DTCC (manuafacturers of SmartSolo)', 'DT-SOLO' , '5 Hz', 'Rc=1850, Rs=430000'])\n",
    "    print(response_node)\n",
    "    response_node.response_stages[0].stage_gain = 76.7\n",
    "    response_node.recalculate_overall_sensitivity()\n",
    "\n",
    "    if plot == True :\n",
    "        response_node.plot(min_freq=0.001, output='VEL')\n",
    "\n",
    "    if inverted == True:\n",
    "        inv = 1\n",
    "    else :\n",
    "        inv = -1\n",
    "\n",
    "    if mode == 'COUNTS' :\n",
    "        paz_node = {'poles': response_node.get_paz().poles,\n",
    "        'zeros': response_node.get_paz().zeros,\n",
    "        'gain': 3355.4428*inv, # need to invert the trace for some reason\n",
    "        'sensitivity': response_node.instrument_sensitivity.value}\n",
    "\n",
    "    elif mode == 'mV' :\n",
    "        paz_node = {'poles': response_node.get_paz().poles,\n",
    "        'zeros': response_node.get_paz().zeros,\n",
    "        'gain': -1.,\n",
    "        'sensitivity': response_node.instrument_sensitivity.value}\n",
    "    else :\n",
    "        raise ValueError('mode should be either COUNTS or mV')\n",
    "    \n",
    "    \n",
    "    return paz_node "
   ]
  },
  {
   "cell_type": "code",
   "execution_count": 67,
   "id": "534c76d0",
   "metadata": {},
   "outputs": [],
   "source": [
    "from obspy import read_inventory\n",
    "\n",
    "def simulate_mseed(stream, logfile_path, pre_filt = None, plot=True) :\n",
    "    \n",
    "    '''\n",
    "    Function to remove the response of minions based on the obspy remove_response function\n",
    "    \n",
    "    stream --> obspy stream object\n",
    "    \n",
    "    logfile_path : path of the logfile - is a string\n",
    "    pre_filt : prefilter of obspy remove_response function\n",
    "    output : output parameter of obspy remove_response function - could be 'VEL', 'DISP', 'ACC' or 'DEF'\n",
    "    zero_mean (bool) : If True, the mean of the waveform data is subtracted in time domain prior to deconvolution.\n",
    "    water_level (float) : Water level for deconvolution.\n",
    "    taper (bool) : If True, a cosine taper is applied to the waveform data in time domain prior to deconvolution.\n",
    "    taper_fraction (float) : Taper fraction of cosine taper to use.\n",
    "    \n",
    "    Parameters for the find_response_file function :\n",
    "    \n",
    "    idb : force the gain - From 0 to 36 B - is a integer, float or string\n",
    "    ifs : force the sampling frequency - 50, 100, 125, 250, 500, 1000, 2000 or 4000 Hz - is a integer, float or string\n",
    "    iFilter : force the Final Filter Phase - could be LP or MP - is a string\n",
    "    iLC : force the DC Filter - could be 'OFF', '1' or 'DC' - is a string\n",
    "    \n",
    "    '''\n",
    "    \n",
    "    trace = stream[0]\n",
    "\n",
    "    #net = trace.stats.network\n",
    "    #station =  trace.stats.station\n",
    "    #ch =  trace.stats.channel\n",
    "    #loc = trace.stats.location\n",
    "\n",
    "    ifs = trace.stats.sampling_rate\n",
    "    \n",
    "    if trace.stats.mseed.encoding in ['STEIM2','STEIM1','INT32','INT16'] :\n",
    "        mode = 'COUNTS'\n",
    "    elif trace.stats.mseed.encoding == 'FLOAT32' :\n",
    "        mode = 'mV'\n",
    "    else :\n",
    "        raise ValueError('Encoding not recognized')\n",
    "    \n",
    "    if plot not in [True, False] :\n",
    "        raise ValueError('plot should be either True or False')\n",
    "\n",
    "    paz_node = find_response_file(logfile_path, ifs = ifs, plot=plot)\n",
    "\n",
    "    \n",
    "    if pre_filt == None :\n",
    "        pre_filt = (0.05, 0.06, ifs//2 - 5, ifs//2)\n",
    "\n",
    "    stream.simulate(\n",
    "        paz_remove=paz_node,\n",
    "        remove_sensitivity=True,\n",
    "        pre_filt=pre_filt)\n",
    "\n",
    "\n",
    "    return stream"
   ]
  },
  {
   "cell_type": "code",
   "execution_count": 68,
   "id": "754fd72b-bc11-4844-9729-9a0792cb95e6",
   "metadata": {},
   "outputs": [],
   "source": [
    "def remove_resp_mseed(trace, logfile_path, pre_filt = None, output = \"VEL\", zero_mean=False, water_level=60,plot=False,\n",
    "                idb = None, ifs = None, iFilter = None, iLC = None) :    \n",
    "    '''\n",
    "    Function to remove the response of minions based on the obspy remove_response function\n",
    "    \n",
    "    --> Needs improvements, currently not working\n",
    "\n",
    "    trace --> obspy trace\n",
    "    \n",
    "    logfile_path : path of the logfile - is a string\n",
    "    pre_filt : prefilter of obspy remove_response function\n",
    "    output : output parameter of obspy remove_response function - could be 'VEL', 'DISP', 'ACC' or 'DEF'\n",
    "    zero_mean (bool) : If True, the mean of the waveform data is subtracted in time domain prior to deconvolution.\n",
    "    water_level (float) : Water level for deconvolution.\n",
    "    taper (bool) : If True, a cosine taper is applied to the waveform data in time domain prior to deconvolution.\n",
    "    taper_fraction (float) : Taper fraction of cosine taper to use.\n",
    "    \n",
    "    Parameters for the find_response_file function :\n",
    "    \n",
    "    idb : force the gain - From 0 to 36 B - is a integer, float or string\n",
    "    ifs : force the sampling frequency - 50, 100, 125, 250, 500, 1000, 2000 or 4000 Hz - is a integer, float or string\n",
    "    iFilter : force the Final Filter Phase - could be LP or MP - is a string\n",
    "    iLC : force the DC Filter - could be 'OFF', '1' or 'DC' - is a string\n",
    "    \n",
    "    '''\n",
    "    from obspy.core.inventory.response import Response\n",
    "\n",
    "\n",
    "    #net = trace.stats.network\n",
    "    #station =  trace.stats.station\n",
    "    #ch =  trace.stats.channel\n",
    "    #loc = trace.stats.location\n",
    "\n",
    "    ifs = trace.stats.sampling_rate\n",
    "    \n",
    "    if trace.stats.mseed.encoding in ['STEIM2','STEIM1','INT32','INT16'] :\n",
    "        mode = 'COUNTS'\n",
    "    elif trace.stats.mseed.encoding == 'FLOAT32' :\n",
    "        mode = 'mV'\n",
    "    else :\n",
    "        raise ValueError('Encoding not recognized')\n",
    "\n",
    "    paz_node = find_response_file(logfile_path, ifs = ifs)\n",
    "    resp = Response.from_paz(paz_node['poles'], paz_node['zeros'], paz_node['gain'], paz_node['sensitivity'], input_units=mode, output_units='M/S')\n",
    "    print(resp)\n",
    "    pre_filt = (0.05, 0.06, ifs//2 - 5, ifs//2)\n",
    "\n",
    "    trace.remove_response(resp, output=output, pre_filt=pre_filt, zero_mean=zero_mean, water_level=water_level, plot=plot)\n",
    "\n",
    "    return trace"
   ]
  },
  {
   "cell_type": "markdown",
   "id": "a8101d92-d5f0-4773-bbbb-4cba476e9c06",
   "metadata": {},
   "source": [
    "## Get metadata information from log file"
   ]
  },
  {
   "cell_type": "code",
   "execution_count": 69,
   "id": "905c28f7-24b5-4a0f-abc1-4f08d00fc280",
   "metadata": {},
   "outputs": [
    {
     "name": "stdout",
     "output_type": "stream",
     "text": [
      "Channel Response\n",
      "\tFrom M/S (Velocity in Meters per Second) to COUNTS (Digital Counts)\n",
      "\tOverall Sensitivity: 4.9001e+06 defined at 25.000 Hz\n",
      "\t7 stages:\n",
      "\t\tStage 1: PolesZerosResponseStage from M/S to V, gain: 76.6\n",
      "\t\tStage 2: ResponseStage from V to V, gain: 64\n",
      "\t\tStage 3: CoefficientsTypeResponseStage from V to COUNTS, gain: 1000\n",
      "\t\tStage 4: CoefficientsTypeResponseStage from COUNTS to COUNTS, gain: 1\n",
      "\t\tStage 5: CoefficientsTypeResponseStage from COUNTS to COUNTS, gain: 1\n",
      "\t\tStage 6: CoefficientsTypeResponseStage from COUNTS to COUNTS, gain: 1\n",
      "\t\tStage 7: CoefficientsTypeResponseStage from COUNTS to COUNTS, gain: 1\n",
      "{'poles': [(-22.2111-22.2178j), (-22.2111+22.2178j)], 'zeros': [0j, 0j], 'gain': 3355.4428, 'sensitivity': 4906497.352699268}\n"
     ]
    },
    {
     "name": "stderr",
     "output_type": "stream",
     "text": [
      "C:\\Users\\julie\\AppData\\Local\\Temp\\ipykernel_13596\\751132783.py:59: ObsPyDeprecationWarning: \n",
      "        DEPRECATED\n",
      "\n",
      "        Direct access to online NRL is deprecated as it will stop working when\n",
      "        the original NRLv1 gets taken offline (Spring 2023), please consider\n",
      "        working locally with a downloaded full copy of the old NRLv1 or new\n",
      "        NRLv2 following instructions on the\n",
      "        `NRL landing page <https://ds.iris.edu/ds/nrl/>`_.\n",
      "        \n",
      "  nrl = NRL()\n"
     ]
    }
   ],
   "source": [
    "path = 'D:/GitHub/ULB-SeismoLab/Minions-Toolbox/ExampleData/Log/453001250/20231110162230/DigiSolo.LOG'\n",
    "paz_node = find_response_file(path)\n",
    "print(paz_node)"
   ]
  },
  {
   "cell_type": "markdown",
   "id": "797b7ce4-f75a-4e83-aed0-0dec67e51f84",
   "metadata": {},
   "source": [
    "## Remove response"
   ]
  },
  {
   "cell_type": "code",
   "execution_count": 70,
   "id": "edf86ed1",
   "metadata": {},
   "outputs": [],
   "source": [
    "file_path = 'D:/GitHub/ULB-SeismoLab/Minions-Toolbox/ExampleData/Miniseed/'\n",
    "file = '453004444..0.0001.2023.11.10.11.09.45.000.N.miniseed'\n",
    "st = obspy.read(file_path+file)"
   ]
  },
  {
   "cell_type": "code",
   "execution_count": 71,
   "id": "d7378d30-40a0-4ced-88c6-fdb26f04ec89",
   "metadata": {},
   "outputs": [
    {
     "data": {
      "text/plain": [
       "         network: BE\n",
       "         station: 04444\n",
       "        location: BE\n",
       "         channel: GPN\n",
       "       starttime: 2023-11-10T11:09:45.000000Z\n",
       "         endtime: 2023-11-10T12:56:33.000000Z\n",
       "   sampling_rate: 1000.0\n",
       "           delta: 0.001\n",
       "            npts: 6408001\n",
       "           calib: 1.0\n",
       "         _format: MSEED\n",
       "           mseed: AttribDict({'dataquality': 'D', 'number_of_records': 3749, 'encoding': 'STEIM2', 'byteorder': '>', 'record_length': 4096, 'filesize': 15355904})"
      ]
     },
     "execution_count": 71,
     "metadata": {},
     "output_type": "execute_result"
    }
   ],
   "source": [
    "file_path = 'D:/GitHub/ULB-SeismoLab/Minions-Toolbox/ExampleData/Miniseed/'\n",
    "file = '453004444..0.0001.2023.11.10.11.09.45.000.N.miniseed'\n",
    "st = obspy.read(file_path+file)\n",
    "trace = st[0]\n",
    "trace.stats"
   ]
  },
  {
   "cell_type": "code",
   "execution_count": 72,
   "id": "a682df5f-58f9-4fd1-b061-94f30165dd44",
   "metadata": {},
   "outputs": [
    {
     "name": "stderr",
     "output_type": "stream",
     "text": [
      "C:\\Users\\julie\\AppData\\Local\\Temp\\ipykernel_13596\\751132783.py:59: ObsPyDeprecationWarning: \n",
      "        DEPRECATED\n",
      "\n",
      "        Direct access to online NRL is deprecated as it will stop working when\n",
      "        the original NRLv1 gets taken offline (Spring 2023), please consider\n",
      "        working locally with a downloaded full copy of the old NRLv1 or new\n",
      "        NRLv2 following instructions on the\n",
      "        `NRL landing page <https://ds.iris.edu/ds/nrl/>`_.\n",
      "        \n",
      "  nrl = NRL()\n"
     ]
    },
    {
     "name": "stdout",
     "output_type": "stream",
     "text": [
      "Channel Response\n",
      "\tFrom M/S (Velocity in Meters per Second) to COUNTS (Digital Counts)\n",
      "\tOverall Sensitivity: 4.90185e+06 defined at 50.000 Hz\n",
      "\t7 stages:\n",
      "\t\tStage 1: PolesZerosResponseStage from M/S to V, gain: 76.6\n",
      "\t\tStage 2: ResponseStage from V to V, gain: 64\n",
      "\t\tStage 3: CoefficientsTypeResponseStage from V to COUNTS, gain: 1000\n",
      "\t\tStage 4: CoefficientsTypeResponseStage from COUNTS to COUNTS, gain: 1\n",
      "\t\tStage 5: CoefficientsTypeResponseStage from COUNTS to COUNTS, gain: 1\n",
      "\t\tStage 6: CoefficientsTypeResponseStage from COUNTS to COUNTS, gain: 1\n",
      "\t\tStage 7: CoefficientsTypeResponseStage from COUNTS to COUNTS, gain: 1\n"
     ]
    },
    {
     "name": "stderr",
     "output_type": "stream",
     "text": [
      "No artists with labels found to put in legend.  Note that artists whose label start with an underscore are ignored when legend() is called with no argument.\n"
     ]
    },
    {
     "data": {
      "image/png": "[encoded data removed]",
      "text/plain": [
       "<Figure size 640x480 with 2 Axes>"
      ]
     },
     "metadata": {},
     "output_type": "display_data"
    }
   ],
   "source": [
    "path = 'D:/GitHub/ULB-SeismoLab/Minions-Toolbox/ExampleData/Log/453004444/20231110141508/DigiSolo.LOG'\n",
    "rst = simulate_mseed(st, path)"
   ]
  },
  {
   "cell_type": "markdown",
   "id": "b7a84b89-e3a6-47db-9bb1-06708d9d3cae",
   "metadata": {},
   "source": [
    "## Save data with the removed response"
   ]
  },
  {
   "cell_type": "code",
   "execution_count": 9,
   "id": "57d546c0-3cb3-4cdb-9649-ec389faf419b",
   "metadata": {},
   "outputs": [
    {
     "name": "stderr",
     "output_type": "stream",
     "text": [
      "C:\\Users\\julie\\anaconda3\\envs\\bas2\\lib\\site-packages\\obspy\\io\\mseed\\core.py:770: UserWarning: The encoding specified in trace.stats.mseed.encoding does not match the dtype of the data.\n",
      "A suitable encoding will be chosen.\n",
      "  warnings.warn(msg, UserWarning)\n"
     ]
    }
   ],
   "source": [
    "output_st = obspy.Stream(rtrace)\n",
    "output_st.write('./ResponseRemoved/CR_'+file, format=\"MSEED\")"
   ]
  },
  {
   "cell_type": "code",
   "execution_count": null,
   "id": "07f1fbc2-b077-4a0e-94c7-0d04dfd060f1",
   "metadata": {},
   "outputs": [],
   "source": []
  }
 ],
 "metadata": {
  "kernelspec": {
   "display_name": "bas2",
   "language": "python",
   "name": "python3"
  },
  "language_info": {
   "codemirror_mode": {
    "name": "ipython",
    "version": 3
   },
   "file_extension": ".py",
   "mimetype": "text/x-python",
   "name": "python",
   "nbconvert_exporter": "python",
   "pygments_lexer": "ipython3",
   "version": "3.10.9"
  }
 },
 "nbformat": 4,
 "nbformat_minor": 5
}
